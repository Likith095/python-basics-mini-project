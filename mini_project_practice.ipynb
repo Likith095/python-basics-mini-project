{
 "cells": [
  {
   "cell_type": "markdown",
   "id": "c4684e20",
   "metadata": {},
   "source": [
    "# Mini Project: Hello Python — Small Experiments\n",
    "**Author:** Likith\n",
    "**Goal:** Practice basic Python in notebook form (print, math, loops, functions), document steps (Markdown), and demonstrate the same notebook runs in VS Code and Colab.  \n",
    "**Date:** 2025-09-20\n",
    "\n",
    "**What this notebook contains**\n",
    "- Short explanation\n",
    "- Small math snippets\n",
    "- A loop example\n",
    "- A tiny function\n",
    "- A simple demo showing how to export this notebook to `.py` (for deployment)\n"
   ]
  },
  {
   "cell_type": "code",
   "execution_count": null,
   "id": "cffa4695",
   "metadata": {},
   "outputs": [
    {
     "name": "stdout",
     "output_type": "stream",
     "text": [
      "Hello from Mini Project — running in Jupyter/Colab!\n"
     ]
    }
   ],
   "source": [
    "# Hello world\n",
    "print(\"Hello from Mini Project — running in Jupyter/Colab!\")"
   ]
  },
  {
   "cell_type": "markdown",
   "id": "1a565677",
   "metadata": {},
   "source": [
    "## How to run\n",
    "- Run each code cell with `Shift+Enter`.\n",
    "- In VS Code: select the Python kernel matching your interpreter.\n",
    "- In Colab: `Runtime -> Run all`.\n"
   ]
  },
  {
   "cell_type": "code",
   "execution_count": null,
   "id": "1614fdfa",
   "metadata": {},
   "outputs": [
    {
     "name": "stdout",
     "output_type": "stream",
     "text": [
      "a = 8 b = 3\n",
      "a + b = 11\n",
      "a * b = 24\n"
     ]
    }
   ],
   "source": [
    "# Basic math operations\n",
    "a = 8\n",
    "b = 3\n",
    "sum_ab = a + b\n",
    "prod_ab = a * b\n",
    "print(\"a =\", a, \"b =\", b)\n",
    "print(\"a + b =\", sum_ab)\n",
    "print(\"a * b =\", prod_ab)"
   ]
  },
  {
   "cell_type": "code",
   "execution_count": 4,
   "id": "e9a35916",
   "metadata": {},
   "outputs": [
    {
     "name": "stdout",
     "output_type": "stream",
     "text": [
      "numbers: [1, 2, 3, 4, 5]\n",
      "squares: [1, 4, 9, 16, 25]\n"
     ]
    }
   ],
   "source": [
    "# Loops & list comprehension\n",
    "numbers = [1, 2, 3, 4, 5]\n",
    "squares = []\n",
    "for n in numbers:\n",
    "    squares.append(n * n)\n",
    "print(\"numbers:\", numbers)\n",
    "print(\"squares:\", squares)"
   ]
  },
  {
   "cell_type": "code",
   "execution_count": 5,
   "id": "47bdecde",
   "metadata": {},
   "outputs": [
    {
     "name": "stdout",
     "output_type": "stream",
     "text": [
      "squares2: [1, 4, 9, 16, 25]\n"
     ]
    }
   ],
   "source": [
    "# same with list comprehension\n",
    "squares2 = [n * n for n in numbers]\n",
    "print(\"squares2:\", squares2)"
   ]
  },
  {
   "cell_type": "markdown",
   "id": "447390f4",
   "metadata": {},
   "source": [
    "#Modify the loop to print only even squares."
   ]
  },
  {
   "cell_type": "code",
   "execution_count": 9,
   "id": "1899351c",
   "metadata": {},
   "outputs": [
    {
     "name": "stdout",
     "output_type": "stream",
     "text": [
      "numbers: [1, 2, 3, 4, 5]\n",
      "squares: [4, 16]\n"
     ]
    }
   ],
   "source": [
    "numbers = [1, 2, 3, 4, 5]\n",
    "squares = []\n",
    "for n in numbers:\n",
    "    if n % 2 == 0:\n",
    "        squares.append(n * n)\n",
    "print(\"numbers:\", numbers)\n",
    "print(\"squares:\", squares)"
   ]
  },
  {
   "cell_type": "code",
   "execution_count": null,
   "id": "e23e62bd",
   "metadata": {},
   "outputs": [
    {
     "name": "stdout",
     "output_type": "stream",
     "text": [
      "Hello, Likith!\n"
     ]
    }
   ],
   "source": [
    "def greet(name: str) -> str:\n",
    "    \"\"\"\n",
    "    Return a greeting string for given name.\n",
    "    \"\"\"\n",
    "    return f\"Hello, {name}!\"\n",
    "\n",
    "\n",
    "print(greet(\"Likith\"))"
   ]
  },
  {
   "cell_type": "code",
   "execution_count": null,
   "id": "49c5d4d9",
   "metadata": {},
   "outputs": [
    {
     "name": "stdout",
     "output_type": "stream",
     "text": [
      "values: [10, 20, 30, 40]\n",
      "mean: 25.0\n"
     ]
    }
   ],
   "source": [
    "# Compute mean of list\n",
    "def mean(values):\n",
    "    return sum(values) / len(values) if values else None\n",
    "\n",
    "\n",
    "vals = [10, 20, 30, 40]\n",
    "print(\"values:\", vals)\n",
    "print(\"mean:\", mean(vals))"
   ]
  },
  {
   "cell_type": "markdown",
   "id": "73a84c41",
   "metadata": {},
   "source": [
    "## Export this notebook to a Python script\n",
    "- In VS Code: Command Palette → **Jupyter: Export to Python Script** (or use the three-dot menu in notebook → Export -> Python (.py))\n",
    "- In Colab: File → Download → Download .py\n"
   ]
  },
  {
   "cell_type": "markdown",
   "id": "69e14411",
   "metadata": {},
   "source": [
    "### Checklist (Mastery)\n",
    "- [ ] Ran every cell in VS Code (local kernel)\n",
    "- [ ] Ran every cell in Google Colab\n",
    "- [ ] Exported notebook to `.py` and executed that script\n",
    "- [ ] Wrote a short README describing what this notebook does\n"
   ]
  },
  {
   "cell_type": "markdown",
   "id": "02177282",
   "metadata": {},
   "source": []
  }
 ],
 "metadata": {
  "kernelspec": {
   "display_name": "Python 3",
   "language": "python",
   "name": "python3"
  },
  "language_info": {
   "codemirror_mode": {
    "name": "ipython",
    "version": 3
   },
   "file_extension": ".py",
   "mimetype": "text/x-python",
   "name": "python",
   "nbconvert_exporter": "python",
   "pygments_lexer": "ipython3",
   "version": "3.13.7"
  }
 },
 "nbformat": 4,
 "nbformat_minor": 5
}
